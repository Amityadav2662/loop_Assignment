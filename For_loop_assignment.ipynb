{
 "cells": [
  {
   "cell_type": "code",
   "execution_count": 9,
   "id": "e80b3a39-c1ab-4d02-845f-388a10c9b6a6",
   "metadata": {},
   "outputs": [],
   "source": [
    "#Q1.Explain with an example each when to use a for loop and a while loop.\n",
    "#Ans. For loop\n",
    "l = [1,2,3,4,5,6,7,8]"
   ]
  },
  {
   "cell_type": "code",
   "execution_count": 10,
   "id": "47310217-3045-47b9-ad9a-4a0407ed1beb",
   "metadata": {},
   "outputs": [
    {
     "name": "stdout",
     "output_type": "stream",
     "text": [
      "1\n",
      "2\n",
      "3\n",
      "4\n",
      "5\n",
      "6\n",
      "7\n",
      "8\n"
     ]
    }
   ],
   "source": [
    "for i in l:\n",
    "    print(i)"
   ]
  },
  {
   "cell_type": "markdown",
   "id": "f44c68a2-fca0-4239-ad26-045abc2d68be",
   "metadata": {},
   "source": [
    "A for loop is used for iterating over a sequence (that is either a list,tuples,a dictionary,a set,or a string).\n",
    "In this example we can see that there is a list and by using for loop i am iterating the list."
   ]
  },
  {
   "cell_type": "code",
   "execution_count": 11,
   "id": "252f802c-2619-47bb-a5c5-cd1b46761451",
   "metadata": {},
   "outputs": [
    {
     "name": "stdout",
     "output_type": "stream",
     "text": [
      "1\n",
      "2\n",
      "3\n",
      "4\n"
     ]
    }
   ],
   "source": [
    "#While loop\n",
    "n = 5\n",
    "i = 1\n",
    "\n",
    "while i < 5:\n",
    "    print(i)\n",
    "    i = i + 1"
   ]
  },
  {
   "cell_type": "markdown",
   "id": "4b2781e8-503d-42ae-b4e1-1a3f45ac6199",
   "metadata": {},
   "source": [
    "A while loop we can execute a set of statements as long as a condition is true.\n",
    "In this example we can see that firstly the condition is check if it is true then it will execute otherwise it will be terminated."
   ]
  },
  {
   "cell_type": "code",
   "execution_count": 12,
   "id": "9eff8780-3337-4f22-9ea5-f28f91b2b5ac",
   "metadata": {},
   "outputs": [
    {
     "name": "stdout",
     "output_type": "stream",
     "text": [
      "55 3628800\n"
     ]
    }
   ],
   "source": [
    "#Q2.Write a python program to print the sum and product of the first 10 natural numbers using for and while loop.\n",
    "# While loop\n",
    "starting_point = 0\n",
    "counter = 1\n",
    "product = 1\n",
    "\n",
    "while counter <= 10:\n",
    "    starting_point = starting_point + counter\n",
    "    product = product * counter\n",
    "    counter = counter + 1\n",
    "print(starting_point,product)"
   ]
  },
  {
   "cell_type": "code",
   "execution_count": 13,
   "id": "87d3fdd3-d583-44f8-a134-eb58720d404a",
   "metadata": {},
   "outputs": [
    {
     "name": "stdout",
     "output_type": "stream",
     "text": [
      "55 3628800\n"
     ]
    }
   ],
   "source": [
    "#For loop\n",
    "starting_point = 0\n",
    "counter = 1\n",
    "result = 1\n",
    "\n",
    "for counter in range(11):\n",
    "    starting_point = starting_point + counter\n",
    "    result = result * counter\n",
    "print(starting_point,product)\n"
   ]
  },
  {
   "cell_type": "code",
   "execution_count": 15,
   "id": "fc856679-4016-490e-93b2-0039fd70ba5c",
   "metadata": {},
   "outputs": [
    {
     "name": "stdin",
     "output_type": "stream",
     "text": [
      "Enter the unit value:  310\n"
     ]
    },
    {
     "name": "stdout",
     "output_type": "stream",
     "text": [
      "Total Electricity bill is : 2250.0\n"
     ]
    }
   ],
   "source": [
    "\"\"\"Q3. Create a python program to compute the electricity bill for a household.The per-unit charges in rupees are as follows: For the first 100 units,\n",
    "the user will be charged Rs. 4.5 perunit, for the next 100 units, the user will be charged Rs. 6 per unit, and for the next 100 units, the user will \n",
    "be charged Rs. 10 per unit, After 300 units and above the user will be charged Rs. 20 per unit.\n",
    "You are required to take the units of electricity consumed in a month from the user as input.\n",
    "Your program must pass this test case: when the unit of electricity consumed by the user in a month is 310, the total electricity bill should be 2250.\n",
    "\"\"\"\n",
    "\n",
    "unit = int(input(\"Enter the unit value: \"))\n",
    "Electricity_bill = 0\n",
    "\n",
    "if(unit<=100):\n",
    "    Electricity_bill = unit * 4.5\n",
    "elif(unit>100 and unit<=200):\n",
    "    Electricity_bill = 100*4.5 + (unit-100) * 6\n",
    "elif(unit>200 and unit<=300):\n",
    "    Electricity_bill = 100*4.5 + 100*6 + (unit-200) * 10\n",
    "else:\n",
    "    Electricity_bill = 100*4.5 + 100*6 + 100*10 + (unit-300)*20\n",
    "print(\"Total Electricity bill is :\",Electricity_bill)"
   ]
  },
  {
   "cell_type": "code",
   "execution_count": 16,
   "id": "79c3c88f-d768-4d43-867c-c63494f95558",
   "metadata": {},
   "outputs": [
    {
     "name": "stdout",
     "output_type": "stream",
     "text": [
      "[2, 4, 5, 6, 8, 10, 12, 14, 15, 16, 18, 20, 22, 24, 25, 26, 28, 30, 32, 34, 35, 36, 38, 40, 42, 44, 45, 46, 48, 50, 52, 54, 55, 56, 58, 60, 62, 64, 65, 66, 68, 70, 72, 74, 75, 76, 78, 80, 82, 84, 85, 86, 88, 90, 92, 94, 95, 96, 98]\n"
     ]
    }
   ],
   "source": [
    "\"\"\"Q4. Create a list of numbers from 1 to 100. Use for loop and while loop to calculate the cube of each\n",
    "number and if the cube of that number is divisible by 4 or 5 then append that number in a list and print\n",
    "that list.\"\"\"\n",
    "#For Loop\n",
    "result = []\n",
    "\n",
    "for i in range(1,100):\n",
    "    if((i**3)%4==0 or (i**3)%5==0):\n",
    "        result.append(i)\n",
    "print(result)"
   ]
  },
  {
   "cell_type": "code",
   "execution_count": 17,
   "id": "2f74a225-6111-4feb-a227-6f8ab3cd91ff",
   "metadata": {},
   "outputs": [
    {
     "name": "stdout",
     "output_type": "stream",
     "text": [
      "[2, 4, 5, 6, 8, 10, 12, 14, 15, 16, 18, 20, 22, 24, 25, 26, 28, 30, 32, 34, 35, 36, 38, 40, 42, 44, 45, 46, 48, 50, 52, 54, 55, 56, 58, 60, 62, 64, 65, 66, 68, 70, 72, 74, 75, 76, 78, 80, 82, 84, 85, 86, 88, 90, 92, 94, 95, 96, 98, 100]\n"
     ]
    }
   ],
   "source": [
    "#While Loop\n",
    "result = []\n",
    "i = 1\n",
    "\n",
    "while i <= 100:\n",
    "    if (i**3) % 4 == 0 or (i**3) % 5 == 0:\n",
    "        result.append(i)\n",
    "    i += 1\n",
    "\n",
    "print(result)"
   ]
  },
  {
   "cell_type": "code",
   "execution_count": 18,
   "id": "822635d2-e614-459e-8231-a34c537b7576",
   "metadata": {},
   "outputs": [
    {
     "name": "stdout",
     "output_type": "stream",
     "text": [
      "The total no of vowels in string :  12\n"
     ]
    }
   ],
   "source": [
    "\"\"\"Q5. Write a program to filter count vowels in the below-given string.\n",
    "string = \"I want to become a data scientist\"\"\"\n",
    "\n",
    "string = \"I want to become a data scientist\"\n",
    "count = 0\n",
    "\n",
    "for i in string:\n",
    "    if (i in (\"aeiouAEIOU\")):\n",
    "        count += 1\n",
    "\n",
    "print(\"The total no of vowels in string : \",count)"
   ]
  },
  {
   "cell_type": "code",
   "execution_count": null,
   "id": "6fd722ad-1aeb-48bb-940b-9bdc002d4f26",
   "metadata": {},
   "outputs": [],
   "source": []
  },
  {
   "cell_type": "code",
   "execution_count": null,
   "id": "356b4689-12df-4b94-9cc2-7254e74ca37f",
   "metadata": {},
   "outputs": [],
   "source": []
  }
 ],
 "metadata": {
  "kernelspec": {
   "display_name": "Python 3 (ipykernel)",
   "language": "python",
   "name": "python3"
  },
  "language_info": {
   "codemirror_mode": {
    "name": "ipython",
    "version": 3
   },
   "file_extension": ".py",
   "mimetype": "text/x-python",
   "name": "python",
   "nbconvert_exporter": "python",
   "pygments_lexer": "ipython3",
   "version": "3.10.8"
  }
 },
 "nbformat": 4,
 "nbformat_minor": 5
}
